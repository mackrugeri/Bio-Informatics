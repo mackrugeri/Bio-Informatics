{
 "cells": [
  {
   "cell_type": "code",
   "execution_count": 3,
   "metadata": {},
   "outputs": [],
   "source": [
    "def zeros(shape):\n",
    "    retval = []\n",
    "    for x in range(shape[0]):\n",
    "        retval.append([])\n",
    "        for y in range(shape[1]):\n",
    "            retval[-1].append(0)\n",
    "    return retval\n",
    "def match_score(alpha, beta,match_award,mismatch_penalty,gap_penalty):\n",
    "    if alpha == beta:\n",
    "        return match_award\n",
    "    elif alpha == '-' or beta == '-':\n",
    "        return gap_penalty\n",
    "    else:\n",
    "        return mismatch_penalty\n",
    "def optimal_Aligment(seq1, seq2,match_award,mismatch_penalty,gap_penalty):\n",
    "    m, n = len(seq1), len(seq2) \n",
    "    score = zeros((m+1, n+1))      \n",
    "    for i in range(0, m + 1):\n",
    "        score[i][0] = gap_penalty * i\n",
    "    for j in range(0, n + 1):\n",
    "        score[0][j] = gap_penalty * j\n",
    "    for i in range(1, m + 1):\n",
    "        for j in range(1, n + 1):\n",
    "            match = score[i - 1][j - 1] + match_score(seq1[i-1], seq2[j-1],match_award,mismatch_penalty,gap_penalty)\n",
    "            delete = score[i - 1][j] + gap_penalty\n",
    "            insert = score[i][j - 1] + gap_penalty\n",
    "            score[i][j] = max(match, delete, insert)\n",
    "    align1, align2 = [], []\n",
    "    i,j = m,n\n",
    "    while i > 0 and j > 0:\n",
    "        score_current = score[i][j]\n",
    "        score_diagonal = score[i-1][j-1]\n",
    "        score_up = score[i][j-1]\n",
    "        score_left = score[i-1][j]\n",
    "        if score_current == score_diagonal + match_score(seq1[i-1], seq2[j-1],match_award,mismatch_penalty,gap_penalty):\n",
    "            align1.append(seq1[i-1])\n",
    "            align2.append(seq2[j-1])\n",
    "            i -= 1\n",
    "            j -= 1\n",
    "        elif score_current == score_left + gap_penalty:\n",
    "            align1.append(seq1[i-1])\n",
    "            align2.append('-')\n",
    "            i -= 1\n",
    "        elif score_current == score_up + gap_penalty:\n",
    "            align1.append('-')\n",
    "            align2.append(seq2[j-1])\n",
    "            j -= 1\n",
    "    while i > 0:\n",
    "        align1.append(seq1[i-1])\n",
    "        align2.append('-')\n",
    "        i -= 1\n",
    "    while j > 0:\n",
    "        align1.append('-')\n",
    "        align2.append(seq2[j-1])\n",
    "        j -= 1 \n",
    "        \n",
    "    print(\"The optimal Alignment is: \")\n",
    "    i= len(align1)-1\n",
    "    while(i>=1):\n",
    "        print(align1[i],end=\"\")\n",
    "        i = i-1\n",
    "    i= len(align2)-1\n",
    "    print(\"\\n\")\n",
    "    while(i>=1):\n",
    "        print(align2[i],end=\"\")\n",
    "        i = i-1\n",
    "   \n",
    "        \n",
    "def match_mismatch(Match,Mismatch,S1,S2):\n",
    "    if S1 == S2:\n",
    "        return Match\n",
    "    else:\n",
    "        return Mismatch\n",
    "def questionNo2(filename):\n",
    "    Seq = []\n",
    "    with open(filename,'r') as f:\n",
    "        for line in f:\n",
    "            Seq.append(line)\n",
    "            \n",
    "        match = int(input(\"Enter the score for match: \"))\n",
    "        Mis = int(input(\"Enter the score for Mismatch: \"))\n",
    "        indel = int(input(\"Enter the score for indel: \"))\n",
    "\n",
    "        length1 = len(Seq[0])-1\n",
    "        length2 = len(Seq[1])\n",
    "        Matrix = [[0 for x in range(length1+1)] for y in range(length2+1)]\n",
    "        \n",
    "        Matrix[0][0] = 0\n",
    "        for i in range(1,length2+1):\n",
    "            Matrix[0][i] = i*indel\n",
    "        for i in range(1,length1+1):\n",
    "            Matrix[i][0] = i*indel\n",
    "        for i in range(1,length1+1):\n",
    "            for j in range(1,length2+1):\n",
    "                Second = Seq[0]\n",
    "                first = Seq[1]\n",
    "                result = Matrix[i-1][j-1]+ match_mismatch(match,Mis,first[j-1],Second[i-1])\n",
    "                result1 = Matrix[i][j-1]+indel\n",
    "                result2 = Matrix[i-1][j]+indel\n",
    "                Matrix[i][j]=max(result,result1,result2)\n",
    "        print(\"The Final Score is \",Matrix[length1][length2])\n",
    "        optimal_Aligment(Seq[0],Seq[1],match,Mis,indel)"
   ]
  },
  {
   "cell_type": "code",
   "execution_count": 4,
   "metadata": {
    "scrolled": true
   },
   "outputs": [
    {
     "name": "stdout",
     "output_type": "stream",
     "text": [
      "Enter the score for match: 10\n",
      "Enter the score for Mismatch: -5\n",
      "Enter the score for indel: -1\n",
      "The Final Score is  24\n",
      "The optimal Alignment is: \n",
      "--TCGT-CC\n",
      "\n",
      "CA-CGTA--"
     ]
    }
   ],
   "source": [
    "questionNo2(\"Bio_File2.txt\")"
   ]
  },
  {
   "cell_type": "markdown",
   "metadata": {},
   "source": []
  },
  {
   "cell_type": "code",
   "execution_count": null,
   "metadata": {},
   "outputs": [],
   "source": []
  },
  {
   "cell_type": "code",
   "execution_count": 22,
   "metadata": {},
   "outputs": [],
   "source": []
  },
  {
   "cell_type": "code",
   "execution_count": null,
   "metadata": {},
   "outputs": [],
   "source": []
  },
  {
   "cell_type": "code",
   "execution_count": null,
   "metadata": {},
   "outputs": [],
   "source": []
  }
 ],
 "metadata": {
  "kernelspec": {
   "display_name": "Python 3",
   "language": "python",
   "name": "python3"
  },
  "language_info": {
   "codemirror_mode": {
    "name": "ipython",
    "version": 3
   },
   "file_extension": ".py",
   "mimetype": "text/x-python",
   "name": "python",
   "nbconvert_exporter": "python",
   "pygments_lexer": "ipython3",
   "version": "3.6.5"
  }
 },
 "nbformat": 4,
 "nbformat_minor": 2
}
