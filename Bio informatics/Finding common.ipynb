{
 "cells": [
  {
   "cell_type": "code",
   "execution_count": 162,
   "metadata": {},
   "outputs": [],
   "source": [
    "import itertools\n",
    "def sequence_finding(finding_sequence):\n",
    "    sequence_List =[]\n",
    "    chars = \"TCGA\"\n",
    "    n = finding_sequence\n",
    "    for i in range(1, n+1):\n",
    "        for item in itertools.product(chars, repeat=i):\n",
    "            a = \"\".join(item)\n",
    "            if (len(a) == 2):\n",
    "                sequence_List.append(a)\n",
    "    return sequence_List"
   ]
  },
  {
   "cell_type": "code",
   "execution_count": 207,
   "metadata": {},
   "outputs": [],
   "source": [
    "def get_sequence_from_users():\n",
    "#     dna_sequence = input()\n",
    "    dna_sequence = \"TAT GGG CTC AGA\"\n",
    "    finding_sequence = 2\n",
    "    counter = 0\n",
    "    scoring = 0\n",
    "    matching = \"\"\n",
    "    chunk = finding_sequence  \n",
    "    chunks = finding_sequence \n",
    "    dna_sequence = dna_sequence.split()\n",
    "    finding_sequence = sequence_finding(finding_sequence)\n",
    "    for i in dna_sequence:\n",
    "        length = len(i)\n",
    "        for k in range(1,length):\n",
    "            chunking = i[counter:chunk]\n",
    "            print (chunking)\n",
    "            counter = counter + 1\n",
    "            chunk = chunk + 1\n",
    "            for j in finding_sequence:\n",
    "                    for l in range (0,2):\n",
    "                        if (chunking[0] == j):\n",
    "                            scoring = scoring + 1\n",
    "                            matching = j"
   ]
  },
  {
   "cell_type": "code",
   "execution_count": 208,
   "metadata": {},
   "outputs": [
    {
     "name": "stdout",
     "output_type": "stream",
     "text": [
      "TA\n",
      "AT\n",
      "G\n",
      "\n"
     ]
    },
    {
     "ename": "IndexError",
     "evalue": "string index out of range",
     "output_type": "error",
     "traceback": [
      "\u001b[1;31m---------------------------------------------------------------------------\u001b[0m",
      "\u001b[1;31mIndexError\u001b[0m                                Traceback (most recent call last)",
      "\u001b[1;32m<ipython-input-208-3e2b42040199>\u001b[0m in \u001b[0;36m<module>\u001b[1;34m()\u001b[0m\n\u001b[1;32m----> 1\u001b[1;33m \u001b[0mget_sequence_from_users\u001b[0m\u001b[1;33m(\u001b[0m\u001b[1;33m)\u001b[0m\u001b[1;33m\u001b[0m\u001b[0m\n\u001b[0m",
      "\u001b[1;32m<ipython-input-207-edd88a938591>\u001b[0m in \u001b[0;36mget_sequence_from_users\u001b[1;34m()\u001b[0m\n\u001b[0;32m     19\u001b[0m             \u001b[1;32mfor\u001b[0m \u001b[0mj\u001b[0m \u001b[1;32min\u001b[0m \u001b[0mfinding_sequence\u001b[0m\u001b[1;33m:\u001b[0m\u001b[1;33m\u001b[0m\u001b[0m\n\u001b[0;32m     20\u001b[0m                     \u001b[1;32mfor\u001b[0m \u001b[0ml\u001b[0m \u001b[1;32min\u001b[0m \u001b[0mrange\u001b[0m \u001b[1;33m(\u001b[0m\u001b[1;36m0\u001b[0m\u001b[1;33m,\u001b[0m\u001b[1;36m2\u001b[0m\u001b[1;33m)\u001b[0m\u001b[1;33m:\u001b[0m\u001b[1;33m\u001b[0m\u001b[0m\n\u001b[1;32m---> 21\u001b[1;33m                         \u001b[1;32mif\u001b[0m \u001b[1;33m(\u001b[0m\u001b[0mchunking\u001b[0m\u001b[1;33m[\u001b[0m\u001b[1;36m0\u001b[0m\u001b[1;33m]\u001b[0m \u001b[1;33m==\u001b[0m \u001b[0mj\u001b[0m\u001b[1;33m)\u001b[0m\u001b[1;33m:\u001b[0m\u001b[1;33m\u001b[0m\u001b[0m\n\u001b[0m\u001b[0;32m     22\u001b[0m                             \u001b[0mscoring\u001b[0m \u001b[1;33m=\u001b[0m \u001b[0mscoring\u001b[0m \u001b[1;33m+\u001b[0m \u001b[1;36m1\u001b[0m\u001b[1;33m\u001b[0m\u001b[0m\n\u001b[0;32m     23\u001b[0m                             \u001b[0mmatching\u001b[0m \u001b[1;33m=\u001b[0m \u001b[0mj\u001b[0m\u001b[1;33m\u001b[0m\u001b[0m\n",
      "\u001b[1;31mIndexError\u001b[0m: string index out of range"
     ]
    }
   ],
   "source": [
    "get_sequence_from_users()"
   ]
  },
  {
   "cell_type": "code",
   "execution_count": null,
   "metadata": {},
   "outputs": [],
   "source": []
  },
  {
   "cell_type": "code",
   "execution_count": 261,
   "metadata": {},
   "outputs": [
    {
     "name": "stdout",
     "output_type": "stream",
     "text": [
      "Enter the Dna Sequence TAT GGG CTC AGA\n",
      "Enter the Finding Sequence length 2\n",
      "TA\n",
      "AT\n",
      "GG\n",
      "GG\n",
      "CT\n",
      "TC\n",
      "AG\n",
      "GA\n",
      "TT\n",
      "TC\n",
      "TG\n",
      "TA\n",
      "CT\n",
      "CC\n",
      "CG\n",
      "CA\n",
      "GT\n",
      "GC\n",
      "GG\n",
      "GA\n",
      "AT\n",
      "AC\n",
      "AG\n",
      "AA\n",
      "[4, 2, 5, 3, 2, 2, 4, 3, 5, 4, 4, 4, 3, 3, 4, 4]\n",
      "5\n",
      "TT\n",
      "TC\n"
     ]
    }
   ],
   "source": [
    "import itertools\n",
    "def max1(arr):\n",
    "    max_ = arr[0]\n",
    "    for item in arr:\n",
    "        if item > max_:\n",
    "            max_ = item\n",
    "    return max_\n",
    "def sequence_finding(finding_sequence):\n",
    "    sequence_List =[]\n",
    "    chars = \"TCGA\"\n",
    "    n = finding_sequence\n",
    "    for i in range(1, n+1):\n",
    "        for item in itertools.product(chars, repeat=i):\n",
    "            a = \"\".join(item)\n",
    "            if (len(a) == 2):\n",
    "                sequence_List.append(a)\n",
    "    return sequence_List\n",
    "def get_sequence_from_users():\n",
    "#     dna_sequence = input()\n",
    "    dna_sequence = input (\"Enter the Dna Sequence \")\n",
    "    sequence = int(input(\"Enter the Finding Sequence length \"))\n",
    "    dna_sequence = \"TATA GGGG CTCT AGAA\"\n",
    "    \n",
    "    most_occ = []\n",
    "    finding_sequence = 2\n",
    "    \n",
    "    counter = 0\n",
    "    scoring = 0\n",
    "    matching = \"\"\n",
    "    looping =0\n",
    "    chunk = sequence  \n",
    "    chunks = finding_sequence \n",
    "    dna_sequence = dna_sequence.split()\n",
    "    finding_sequence = sequence_finding(finding_sequence)\n",
    "    for i in dna_sequence:\n",
    "        length = len(i)\n",
    "        if (sequence > length):\n",
    "            print(\"Wrong finding seqence input\")\n",
    "            break\n",
    "        if (sequence == length):\n",
    "            looping = 2 \n",
    "        else:\n",
    "            looping = length-1\n",
    "        for k in range(1,looping):\n",
    "            chunking = i[counter:chunk]\n",
    "            print (chunking)\n",
    "            counter = counter + 1\n",
    "            chunk = chunk + 1\n",
    "            for j in finding_sequence:\n",
    "                    for l in range (0,2):\n",
    "                        if (chunking[l] == j[l]):\n",
    "                            scoring = scoring + 1\n",
    "                    if(scoring == sequence or scoring == (sequence-1)):\n",
    "                        most_occ.append(j)\n",
    "                        scoring = 0\n",
    "        chunk = sequence \n",
    "        counter = 0\n",
    "    listing=[]\n",
    "    for i  in finding_sequence:\n",
    "        print (i)\n",
    "        listing.append(most_occ.count(i))\n",
    "    print(listing)\n",
    "    a = max(listing)\n",
    "    print(a)\n",
    "    counting = 0\n",
    "    for i in listing:\n",
    "        if (i == a):\n",
    "            print (most_occ[counting])\n",
    "            counting = counting + 1\n",
    "get_sequence_from_users()  "
   ]
  },
  {
   "cell_type": "markdown",
   "metadata": {},
   "source": [
    "def most_common(lst):\n",
    "    return max(set(lst), key=lst.count)"
   ]
  },
  {
   "cell_type": "code",
   "execution_count": 213,
   "metadata": {},
   "outputs": [
    {
     "data": {
      "text/plain": [
       "2"
      ]
     },
     "execution_count": 213,
     "metadata": {},
     "output_type": "execute_result"
    }
   ],
   "source": [
    "most_common([2,3,2,3,2,3,4,5,6])\n",
    "TAT GGG CTC AGA"
   ]
  },
  {
   "cell_type": "code",
   "execution_count": null,
   "metadata": {},
   "outputs": [],
   "source": [
    "listing = [1,2,3,4,5,5,5,5,6,6,6,6]\n",
    "counting =0\n",
    "lists = []\n",
    "for i in listing:\n",
    "    for j in listing:\n",
    "        if(i == j):\n",
    "            counter = counter + 1\n",
    "    lists.appan(j)"
   ]
  }
 ],
 "metadata": {
  "kernelspec": {
   "display_name": "Python 3",
   "language": "python",
   "name": "python3"
  },
  "language_info": {
   "codemirror_mode": {
    "name": "ipython",
    "version": 3
   },
   "file_extension": ".py",
   "mimetype": "text/x-python",
   "name": "python",
   "nbconvert_exporter": "python",
   "pygments_lexer": "ipython3",
   "version": "3.6.5"
  }
 },
 "nbformat": 4,
 "nbformat_minor": 2
}
