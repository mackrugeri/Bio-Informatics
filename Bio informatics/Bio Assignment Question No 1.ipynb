{
 "cells": [
  {
   "cell_type": "code",
   "execution_count": 260,
   "metadata": {},
   "outputs": [],
   "source": [
    "def questionNo1(filename):\n",
    "    counter =1\n",
    "    listing = 1;\n",
    "    Dna = \"\"\n",
    "    Rna = \"\"\n",
    "    Flag = 0\n",
    "    first =0\n",
    "    Second = 3\n",
    "    Seq = \"\"\n",
    "    Condon = {\"UUU\":\"F\", \"UUC\":\"F\", \"UUA\":\"L\", \"UUG\":\"L\",\n",
    "    \"UCU\":\"S\", \"UCC\":\"s\", \"UCA\":\"S\", \"UCG\":\"S\",\n",
    "    \"UAU\":\"Y\", \"UAC\":\"Y\", \"UAA\":\"STOP\", \"UAG\":\"STOP\",\n",
    "    \"UGU\":\"C\", \"UGC\":\"C\", \"UGA\":\"STOP\", \"UGG\":\"W\",\n",
    "    \"CUU\":\"L\", \"CUC\":\"L\", \"CUA\":\"L\", \"CUG\":\"L\",\n",
    "    \"CCU\":\"P\", \"CCC\":\"P\", \"CCA\":\"P\", \"CCG\":\"P\",\n",
    "    \"CAU\":\"H\", \"CAC\":\"H\", \"CAA\":\"Q\", \"CAG\":\"Q\",\n",
    "    \"CGU\":\"R\", \"CGC\":\"R\", \"CGA\":\"R\", \"CGG\":\"R\",\n",
    "    \"AUU\":\"I\", \"AUC\":\"I\", \"AUA\":\"I\", \"AUG\":\"M\",\n",
    "    \"ACU\":\"T\", \"ACC\":\"T\", \"ACA\":\"T\", \"ACG\":\"T\",\n",
    "    \"AAU\":\"N\", \"AAC\":\"N\", \"AAA\":\"K\", \"AAG\":\"K\",\n",
    "    \"AGU\":\"S\", \"AGC\":\"S\", \"AGA\":\"R\", \"AGG\":\"R\",\n",
    "    \"GUU\":\"V\", \"GUC\":\"V\", \"GUA\":\"V\", \"GUG\":\"V\",\n",
    "    \"GCU\":\"A\", \"GCC\":\"A\", \"GCA\":\"A\", \"GCG\":\"A\",\n",
    "    \"GAU\":\"D\", \"GAC\":\"D\", \"GAA\":\"E\", \"GAG\":\"E\",\n",
    "    \"GGU\":\"G\", \"GGC\":\"G\", \"GGA\":\"G\", \"GGG\":\"G\",}\n",
    "    with open(filename,'r') as f:\n",
    "        for line in f:\n",
    "            for word in line.split():\n",
    "                if (counter == 1):\n",
    "                    sequence = word\n",
    "                    \n",
    "#                     print(sequence)\n",
    "                    \n",
    "                if (counter == 2):\n",
    "                    number = int(word)\n",
    "                    \n",
    "                if (counter == 3):\n",
    "                    number1 = int(word)\n",
    "                    \n",
    "                counter = counter +1\n",
    "            counter = 1\n",
    "            \n",
    "#           splicing points\n",
    "\n",
    "            for i in range(0,len(sequence)):\n",
    "                if(i >= number and i <= number1):\n",
    "                    continue\n",
    "                else:\n",
    "                    Dna = Dna + sequence[i]\n",
    "                    \n",
    "#           Dna into Rna\n",
    "            \n",
    "            for i in range(0,len(Dna)):\n",
    "                if(Dna[i] == \"G\"):\n",
    "                    Rna = Rna +\"C\"\n",
    "                if(Dna[i] == \"C\"):\n",
    "                    Rna = Rna + \"G\"\n",
    "                if(Dna[i] == \"T\"):\n",
    "                    Rna = Rna + \"A\"\n",
    "                if(Dna[i] == \"A\"):\n",
    "                    Rna = Rna + \"U\"\n",
    "                    \n",
    "#          Form Codon Table \n",
    "\n",
    "            vara1= int(len(Rna)/3)\n",
    "            for i in range(0,vara1):\n",
    "                if (Flag == 1 and Rna[first:Second] != \"\"):\n",
    "                    if(Rna[first:Second] == \"STOP\"):\n",
    "                        Flag = 0\n",
    "                    else:\n",
    "                        vara= Rna[first:Second]\n",
    "                        seq = seq + (Condon[vara])\n",
    "                if (Rna[first:Second] == \"AUG\"):\n",
    "                    seq = Condon[\"AUG\"]\n",
    "                    Flag = 1\n",
    "               \n",
    "                first += 3\n",
    "                Second +=3\n",
    "                \n",
    "            print(\"The\",listing,\"Sequence is \" ,seq)\n",
    "            listing = listing + 1\n",
    "            Rna = \"\"\n",
    "            Dna =\"\"\n",
    "            "
   ]
  },
  {
   "cell_type": "code",
   "execution_count": 261,
   "metadata": {},
   "outputs": [
    {
     "name": "stdout",
     "output_type": "stream",
     "text": [
      "The 1 Sequence is  MTEAN\n",
      "The 2 Sequence is  MTEAN\n",
      "The 3 Sequence is  MTEAN\n",
      "The 4 Sequence is  MTEAN\n"
     ]
    }
   ],
   "source": [
    "questionNo1(\"Bio_File.txt\")"
   ]
  },
  {
   "cell_type": "code",
   "execution_count": null,
   "metadata": {},
   "outputs": [],
   "source": []
  },
  {
   "cell_type": "code",
   "execution_count": null,
   "metadata": {},
   "outputs": [],
   "source": []
  },
  {
   "cell_type": "code",
   "execution_count": null,
   "metadata": {},
   "outputs": [],
   "source": []
  },
  {
   "cell_type": "code",
   "execution_count": null,
   "metadata": {},
   "outputs": [],
   "source": []
  }
 ],
 "metadata": {
  "kernelspec": {
   "display_name": "Python 3",
   "language": "python",
   "name": "python3"
  },
  "language_info": {
   "codemirror_mode": {
    "name": "ipython",
    "version": 3
   },
   "file_extension": ".py",
   "mimetype": "text/x-python",
   "name": "python",
   "nbconvert_exporter": "python",
   "pygments_lexer": "ipython3",
   "version": "3.6.5"
  }
 },
 "nbformat": 4,
 "nbformat_minor": 2
}
