{
 "cells": [
  {
   "cell_type": "code",
   "execution_count": null,
   "metadata": {},
   "outputs": [],
   "source": [
    "import itertools\n",
    "def most_common(lst):\n",
    "    return max(set(lst), key=lst.count)\n",
    "def sequence_finding(finding_sequence):\n",
    "    sequence_List =[]\n",
    "    chars = \"TCGA\"\n",
    "    n = finding_sequence\n",
    "    for i in range(1, n+1):\n",
    "        for item in itertools.product(chars, repeat=i):\n",
    "            a = \"\".join(item)\n",
    "            if (len(a) == 2):\n",
    "                sequence_List.append(a)\n",
    "    return sequence_List\n",
    "def get_sequence_from_users():\n",
    "#     dna_sequence = input()\n",
    "    dna_sequence = input (\"Enter the Dna Sequence \")\n",
    "    sequence = int(input(\"Enter the Finding Sequence length \"))\n",
    "    dna_sequence = \"TATA GGGG CTCT AGAA\"\n",
    "    \n",
    "    most_occ = []\n",
    "    finding_sequence = 2\n",
    "    \n",
    "    counter = 0\n",
    "    scoring = 0\n",
    "    matching = \"\"\n",
    "    looping =0\n",
    "    chunk = sequence  \n",
    "    chunks = finding_sequence \n",
    "    dna_sequence = dna_sequence.split()\n",
    "    finding_sequence = sequence_finding(finding_sequence)\n",
    "    for i in dna_sequence:\n",
    "        length = len(i)\n",
    "        if (sequence > length):\n",
    "            print(\"Wrong finding seqence input\")\n",
    "            break\n",
    "        if (sequence == length):\n",
    "            looping = 2 \n",
    "        else:\n",
    "            looping = length-1\n",
    "        for k in range(1,looping):\n",
    "            chunking = i[counter:chunk]\n",
    "            print (chunking)\n",
    "            counter = counter + 1\n",
    "            chunk = chunk + 1\n",
    "            for j in finding_sequence:\n",
    "                    for l in range (0,2):\n",
    "                        if (chunking[l] == j[l]):\n",
    "                            scoring = scoring + 1\n",
    "                    if(scoring == sequence or scoring == (sequence-1)):\n",
    "                        most_occ.append(j)\n",
    "                        scoring = 0\n",
    "        chunk = sequence \n",
    "        counter = 0\n",
    "    print(\"The most occurance sequence is \" + most_common(most_occ))\n",
    "get_sequence_from_users()  "
   ]
  }
 ],
 "metadata": {
  "kernelspec": {
   "display_name": "Python 3",
   "language": "python",
   "name": "python3"
  },
  "language_info": {
   "codemirror_mode": {
    "name": "ipython",
    "version": 3
   },
   "file_extension": ".py",
   "mimetype": "text/x-python",
   "name": "python",
   "nbconvert_exporter": "python",
   "pygments_lexer": "ipython3",
   "version": "3.6.5"
  }
 },
 "nbformat": 4,
 "nbformat_minor": 2
}
