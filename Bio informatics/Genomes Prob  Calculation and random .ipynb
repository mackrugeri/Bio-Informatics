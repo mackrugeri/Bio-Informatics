{
 "cells": [
  {
   "cell_type": "code",
   "execution_count": 1,
   "metadata": {},
   "outputs": [
    {
     "data": {
      "text/plain": [
       "['-5.7373919000321045 -5.217087091662659 -5.2631939799163145 -5.958129180949464 -6.628340009359369 -7.009226271710823']"
      ]
     },
     "execution_count": 1,
     "metadata": {},
     "output_type": "execute_result"
    }
   ],
   "source": [
    "import math\n",
    "\n",
    "def prob_calculator(seq, gc_content):\n",
    "    total_log = 0\n",
    "    for c in seq:\n",
    "        total_log += (math.log(gc_content/2,10)\n",
    "                      if c in \"GC\" else math.log((1-gc_content)/2, 10))\n",
    "    return total_log\n",
    "\n",
    "def random_genome(dna,gc_content):\n",
    "    log_list = []\n",
    "    log_list.append(' '.join(map(str, [prob_calculator(dna, i) for i in gc_content])))\n",
    "    return log_list\n",
    "\n",
    "random_genome(\"ACGATACAA\",[0.129,0.287,0.423,0.641,0.742,0.783])"
   ]
  },
  {
   "cell_type": "code",
   "execution_count": 81,
   "metadata": {},
   "outputs": [
    {
     "name": "stdout",
     "output_type": "stream",
     "text": [
      "A\n"
     ]
    },
    {
     "ename": "TypeError",
     "evalue": "unsupported operand type(s) for /: 'list' and 'int'",
     "output_type": "error",
     "traceback": [
      "\u001b[1;31m---------------------------------------------------------------------------\u001b[0m",
      "\u001b[1;31mTypeError\u001b[0m                                 Traceback (most recent call last)",
      "\u001b[1;32m<ipython-input-81-b530b909a7b3>\u001b[0m in \u001b[0;36m<module>\u001b[1;34m()\u001b[0m\n\u001b[1;32m----> 1\u001b[1;33m \u001b[0mprob_helper\u001b[0m\u001b[1;33m(\u001b[0m\u001b[1;34m\"ACGATACAA\"\u001b[0m\u001b[1;33m,\u001b[0m\u001b[1;33m[\u001b[0m\u001b[1;36m0.129\u001b[0m\u001b[1;33m,\u001b[0m\u001b[1;36m0.287\u001b[0m\u001b[1;33m,\u001b[0m\u001b[1;36m0.423\u001b[0m\u001b[1;33m,\u001b[0m\u001b[1;36m0.641\u001b[0m\u001b[1;33m,\u001b[0m\u001b[1;36m0.742\u001b[0m\u001b[1;33m,\u001b[0m\u001b[1;36m0.783\u001b[0m\u001b[1;33m]\u001b[0m\u001b[1;33m)\u001b[0m\u001b[1;33m\u001b[0m\u001b[0m\n\u001b[0m",
      "\u001b[1;32m<ipython-input-80-9c5b1aca1a75>\u001b[0m in \u001b[0;36mprob_helper\u001b[1;34m(seq, gc_content)\u001b[0m\n\u001b[0;32m      7\u001b[0m     \u001b[1;32mfor\u001b[0m \u001b[0mc\u001b[0m \u001b[1;32min\u001b[0m \u001b[0mseq\u001b[0m\u001b[1;33m:\u001b[0m\u001b[1;33m\u001b[0m\u001b[0m\n\u001b[0;32m      8\u001b[0m         \u001b[0mprint\u001b[0m \u001b[1;33m(\u001b[0m\u001b[0mc\u001b[0m\u001b[1;33m)\u001b[0m\u001b[1;33m\u001b[0m\u001b[0m\n\u001b[1;32m----> 9\u001b[1;33m         \u001b[0mtotal_log\u001b[0m \u001b[1;33m+=\u001b[0m\u001b[0mmath\u001b[0m\u001b[1;33m.\u001b[0m\u001b[0mlog\u001b[0m\u001b[1;33m(\u001b[0m\u001b[0mgc_content\u001b[0m\u001b[1;33m/\u001b[0m\u001b[1;36m2\u001b[0m\u001b[1;33m,\u001b[0m\u001b[1;36m10\u001b[0m\u001b[1;33m)\u001b[0m\u001b[1;33m\u001b[0m\u001b[0m\n\u001b[0m\u001b[0;32m     10\u001b[0m         \u001b[0mprint\u001b[0m\u001b[1;33m(\u001b[0m\u001b[0mtotal_log\u001b[0m\u001b[1;33m)\u001b[0m\u001b[1;33m\u001b[0m\u001b[0m\n\u001b[0;32m     11\u001b[0m         \u001b[0mcounter\u001b[0m \u001b[1;33m=\u001b[0m \u001b[0mcounter\u001b[0m \u001b[1;33m+\u001b[0m \u001b[1;36m1\u001b[0m\u001b[1;33m\u001b[0m\u001b[0m\n",
      "\u001b[1;31mTypeError\u001b[0m: unsupported operand type(s) for /: 'list' and 'int'"
     ]
    }
   ],
   "source": [
    "prob_helper(\"ACGATACAA\",[0.129,0.287,0.423,0.641,0.742,0.783])"
   ]
  },
  {
   "cell_type": "code",
   "execution_count": 95,
   "metadata": {},
   "outputs": [],
   "source": [
    "import math\n",
    "\n",
    "def prob_calculator(seq, gc_content):\n",
    "    total_log = 0\n",
    "    for c in seq:\n",
    "        total_log += (math.log(gc_content/2,10)\n",
    "                      if c in \"GC\" else math.log((1-gc_content)/2, 10))\n",
    "    return total_log\n",
    "\n",
    "def random_genome(dna,gc_content):\n",
    "    log_list = []\n",
    "    log_list.append(' '.join(map(str, [prob_helper(dna, i) for i in gc_content])))\n",
    "    return log_list"
   ]
  },
  {
   "cell_type": "code",
   "execution_count": 97,
   "metadata": {},
   "outputs": [
    {
     "data": {
      "text/plain": [
       "['-5.7373919000321045 -5.217087091662659 -5.2631939799163145 -5.958129180949464 -6.628340009359369 -7.009226271710823']"
      ]
     },
     "execution_count": 97,
     "metadata": {},
     "output_type": "execute_result"
    }
   ],
   "source": [
    "random_genome(\"ACGATACAA\",[0.129,0.287,0.423,0.641,0.742,0.783])"
   ]
  },
  {
   "cell_type": "code",
   "execution_count": null,
   "metadata": {},
   "outputs": [],
   "source": []
  },
  {
   "cell_type": "code",
   "execution_count": null,
   "metadata": {},
   "outputs": [],
   "source": []
  }
 ],
 "metadata": {
  "kernelspec": {
   "display_name": "Python 3",
   "language": "python",
   "name": "python3"
  },
  "language_info": {
   "codemirror_mode": {
    "name": "ipython",
    "version": 3
   },
   "file_extension": ".py",
   "mimetype": "text/x-python",
   "name": "python",
   "nbconvert_exporter": "python",
   "pygments_lexer": "ipython3",
   "version": "3.6.5"
  }
 },
 "nbformat": 4,
 "nbformat_minor": 2
}
