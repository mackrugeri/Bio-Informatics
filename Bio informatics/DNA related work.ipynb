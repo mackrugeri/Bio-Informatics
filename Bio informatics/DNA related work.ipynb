{
 "cells": [
  {
   "cell_type": "code",
   "execution_count": 12,
   "metadata": {},
   "outputs": [],
   "source": [
    "def At_frequency(x):\n",
    "    return (1-x)/2\n",
    "def CG_frequency(x):\n",
    "    return x/2\n",
    "def checking_C_G(dna):\n",
    "    counter =0\n",
    "    for i in list(dna):\n",
    "        if i == \"C\" or i ==\"G\":\n",
    "            counter = counter +1\n",
    "    return counter\n",
    "def checking_A_T(dna):\n",
    "    counter =0\n",
    "    for i in list(dna):\n",
    "        if i == \"A\" or i ==\"T\":\n",
    "            counter = counter +1\n",
    "    return counter\n",
    "def random_genome(dna,gc_content):\n",
    "    logarithms_list = []\n",
    "#     print(CG_frequency(checking_C_G(dna)))\n",
    "    print(CG_frequency(gc_content[1])-(At_frequency(gc_content[1])))\n",
    "    \n",
    "\n",
    "    return logarithms_list"
   ]
  },
  {
   "cell_type": "code",
   "execution_count": 52,
   "metadata": {},
   "outputs": [
    {
     "name": "stdout",
     "output_type": "stream",
     "text": [
      "-0.21300000000000005\n"
     ]
    },
    {
     "data": {
      "text/plain": [
       "[]"
      ]
     },
     "execution_count": 52,
     "metadata": {},
     "output_type": "execute_result"
    }
   ],
   "source": [
    "random_genome(\"ACGATACAA\",[0.129,0.287,0.423,0.641,0.742,0.783])"
   ]
  },
  {
   "cell_type": "code",
   "execution_count": 10,
   "metadata": {},
   "outputs": [
    {
     "name": "stdout",
     "output_type": "stream",
     "text": [
      "[]\n"
     ]
    }
   ],
   "source": [
    "def reverse_complement(dna):\n",
    "    complement = {'A': 'T', 'C': 'G', 'G': 'C', 'T': 'A'}\n",
    "    return ''.join([complement[base] for base in dna[::-1]]) \n",
    "def rev_palindrome(string_of_dna):\n",
    "    list_of_dna = list(string_of_dna)\n",
    "    listing = []\n",
    "    second_list=[]\n",
    "    concatnation = \"\"\n",
    "    counter =4\n",
    "    while(counter !=13):\n",
    "        for i in range(0,len(list_of_dna)-counter):\n",
    "            for j in range(0,counter):\n",
    "                concatnation = concatnation + list_of_dna[i+j]\n",
    "            if (str(concatnation) == reverse_complement(str(concatnation))):\n",
    "                listing.append(i)\n",
    "                listing.append(len(concatnation))\n",
    "                second_list.append(listing)\n",
    "                listing=[]\n",
    "            concatnation = \"\"\n",
    "        counter = counter +1 \n",
    "    for i in range(0,len(second_list)):\n",
    "        second_list[i] = tuple(second_list[i])\n",
    "    return second_list\n",
    "\n",
    "print(rev_palindrome(\"CAA\"))\n",
    "\n",
    "            "
   ]
  },
  {
   "cell_type": "code",
   "execution_count": 11,
   "metadata": {},
   "outputs": [
    {
     "data": {
      "text/plain": [
       "'ATGCAT'"
      ]
     },
     "execution_count": 11,
     "metadata": {},
     "output_type": "execute_result"
    }
   ],
   "source": [
    "def reverse_complement(dna):\n",
    "    complement = {'A': 'T', 'C': 'G', 'G': 'C', 'T': 'A'}\n",
    "    return ''.join([complement[base] for base in dna[::-1]])\n",
    "reverse_complement(\"ATGCAT\")\n"
   ]
  },
  {
   "cell_type": "code",
   "execution_count": 63,
   "metadata": {},
   "outputs": [],
   "source": [
    "def gc_content(seq):\n",
    "        return round((seq.count('C') + seq.count('G')) / len(seq) * 100)\n"
   ]
  },
  {
   "cell_type": "code",
   "execution_count": 64,
   "metadata": {},
   "outputs": [
    {
     "data": {
      "text/plain": [
       "33"
      ]
     },
     "execution_count": 64,
     "metadata": {},
     "output_type": "execute_result"
    }
   ],
   "source": [
    "gc_content(\"ACGATACAA\")"
   ]
  },
  {
   "cell_type": "code",
   "execution_count": 191,
   "metadata": {},
   "outputs": [
    {
     "name": "stdout",
     "output_type": "stream",
     "text": [
      "0.4355\n",
      "0.0645\n",
      "-5.153812405302055\n",
      "==========================\n",
      "0.35650000000000004\n",
      "0.1435\n",
      "-4.2889033762045985\n",
      "==========================\n",
      "0.2885\n",
      "0.2115\n",
      "-4.034627207558742\n",
      "==========================\n",
      "0.262\n",
      "0.238\n",
      "-4.003327804478781\n",
      "==========================\n",
      "0.1795\n",
      "0.3205\n",
      "-4.119547988882381\n",
      "==========================\n",
      "0.129\n",
      "0.371\n",
      "-4.385065937280117\n",
      "==========================\n",
      "0.10849999999999999\n",
      "0.3915\n",
      "-4.557148839588654\n",
      "==========================\n"
     ]
    }
   ],
   "source": [
    "import math\n",
    "dna = \"ACGATACAA\"\n",
    "GC_content = [0.129 ,0.287 ,0.423, 0.476,0.641,0.742,0.783,]\n",
    "cg = len(dna.replace('A', '').replace('T',''))\n",
    "at = len(dna.replace('G', '').replace('C',''))\n",
    "for i in GC_content:\n",
    "    a = At_frequency(i)\n",
    "    b = CG_frequency(i )\n",
    "    print(a)\n",
    "    print(b)\n",
    "    print((math.log2(a) + math.log2(b)))\n",
    "    print(\"==========================\")\n",
    "#     math.log10(At_frequency(i)"
   ]
  },
  {
   "cell_type": "code",
   "execution_count": 190,
   "metadata": {},
   "outputs": [
    {
     "ename": "KeyboardInterrupt",
     "evalue": "",
     "output_type": "error",
     "traceback": [
      "\u001b[1;31m---------------------------------------------------------------------------\u001b[0m",
      "\u001b[1;31mKeyboardInterrupt\u001b[0m                         Traceback (most recent call last)",
      "\u001b[1;32m<ipython-input-190-a7d35c02a2f3>\u001b[0m in \u001b[0;36m<module>\u001b[1;34m()\u001b[0m\n\u001b[0;32m     52\u001b[0m \u001b[0mtmp\u001b[0m \u001b[1;33m=\u001b[0m \u001b[1;33m[\u001b[0m\u001b[1;33m]\u001b[0m\u001b[1;33m\u001b[0m\u001b[0m\n\u001b[0;32m     53\u001b[0m \u001b[1;32mfor\u001b[0m \u001b[0m_\u001b[0m \u001b[1;32min\u001b[0m \u001b[0mrange\u001b[0m\u001b[1;33m(\u001b[0m\u001b[1;36m100\u001b[0m\u001b[1;33m)\u001b[0m\u001b[1;33m:\u001b[0m\u001b[1;33m\u001b[0m\u001b[0m\n\u001b[1;32m---> 54\u001b[1;33m     \u001b[0mgenome\u001b[0m \u001b[1;33m=\u001b[0m \u001b[0mgenRandomGenome\u001b[0m\u001b[1;33m(\u001b[0m\u001b[1;33m)\u001b[0m\u001b[1;33m\u001b[0m\u001b[0m\n\u001b[0m\u001b[0;32m     55\u001b[0m     \u001b[0mregulatory_seq\u001b[0m \u001b[1;33m=\u001b[0m \u001b[0mLreg_VariablePromLen\u001b[0m\u001b[1;33m(\u001b[0m\u001b[0mgenome\u001b[0m\u001b[1;33m)\u001b[0m\u001b[1;33m\u001b[0m\u001b[0m\n\u001b[0;32m     56\u001b[0m     \u001b[0mtmp\u001b[0m\u001b[1;33m.\u001b[0m\u001b[0mappend\u001b[0m\u001b[1;33m(\u001b[0m\u001b[0mlen\u001b[0m\u001b[1;33m(\u001b[0m\u001b[0mregulatory_seq\u001b[0m\u001b[1;33m)\u001b[0m\u001b[1;33m)\u001b[0m\u001b[1;33m\u001b[0m\u001b[0m\n",
      "\u001b[1;32m<ipython-input-190-a7d35c02a2f3>\u001b[0m in \u001b[0;36mgenRandomGenome\u001b[1;34m()\u001b[0m\n\u001b[0;32m     16\u001b[0m     \u001b[0mgenome\u001b[0m \u001b[1;33m=\u001b[0m \u001b[1;34m\"\"\u001b[0m\u001b[1;33m\u001b[0m\u001b[0m\n\u001b[0;32m     17\u001b[0m     \u001b[1;32mfor\u001b[0m \u001b[0m_\u001b[0m \u001b[1;32min\u001b[0m \u001b[0mrange\u001b[0m\u001b[1;33m(\u001b[0m\u001b[0mint\u001b[0m\u001b[1;33m(\u001b[0m\u001b[0mgenome_len\u001b[0m\u001b[1;33m)\u001b[0m\u001b[1;33m)\u001b[0m\u001b[1;33m:\u001b[0m\u001b[1;33m\u001b[0m\u001b[0m\n\u001b[1;32m---> 18\u001b[1;33m         \u001b[0mgenome\u001b[0m \u001b[1;33m+=\u001b[0m \u001b[0mstr\u001b[0m\u001b[1;33m(\u001b[0m\u001b[0mrandint\u001b[0m\u001b[1;33m(\u001b[0m\u001b[0mlower_int\u001b[0m\u001b[1;33m,\u001b[0m \u001b[0mupper_int\u001b[0m\u001b[1;33m)\u001b[0m\u001b[1;33m)\u001b[0m\u001b[1;33m\u001b[0m\u001b[0m\n\u001b[0m\u001b[0;32m     19\u001b[0m     \u001b[1;32mreturn\u001b[0m \u001b[0mgenome\u001b[0m\u001b[1;33m\u001b[0m\u001b[0m\n\u001b[0;32m     20\u001b[0m \u001b[1;33m\u001b[0m\u001b[0m\n",
      "\u001b[1;31mKeyboardInterrupt\u001b[0m: "
     ]
    }
   ],
   "source": [
    "from random import randint\n",
    "import numpy as np\n",
    "import re\n",
    "import seaborn as sns\n",
    "\n",
    "global prom_len, cod_len, genome_len, lower_int, upper_int, lower_prom_len, upper_prom_len\n",
    "prom_len_fixed = 5\n",
    "cod_len = 7\n",
    "genome_len = 1e5\n",
    "\n",
    "lower_int, upper_int = 0, 3\n",
    "lower_prom_len, upper_prom_len = 5, 8\n",
    "\n",
    "\n",
    "def genRandomGenome():\n",
    "    genome = \"\"\n",
    "    for _ in range(int(genome_len)):\n",
    "        genome += str(randint(lower_int, upper_int))\n",
    "    return genome\n",
    "\n",
    "\n",
    "def genRandProm_VariableLength():\n",
    "    prom_seq = \"\"\n",
    "    length = randint(lower_prom_len, upper_prom_len)\n",
    "    for _ in range(length):\n",
    "        prom_seq += str(randint(lower_int, upper_int))\n",
    "    return prom_seq\n",
    "\n",
    "\n",
    "def genRandProm_FixedLength():\n",
    "    prom_seq = \"\"\n",
    "    for _ in range(prom_len_fixed):\n",
    "        prom_seq += str(randint(lower_int, upper_int))\n",
    "    return prom_seq\n",
    "\n",
    "\n",
    "def Lreg_VariablePromLen(genome, fixedProm_Seq=False):\n",
    "    regulatoryRegion = []\n",
    "    prom_seq = genRandProm_VariableLength()\n",
    "    if fixedProm_Seq:\n",
    "        regulatoryRegion = re.compile(prom_seq + \"\\d{\" + str(cod_len) + \"}(.*?)\" + prom_seq).split(genome)\n",
    "    else:\n",
    "        while len(genome.split(prom_seq, 1)) == 2:\n",
    "            prom_seq = genRandProm_VariableLength()\n",
    "            splitResult = genome.split(prom_seq, 1)\n",
    "            if len(splitResult) == 2:\n",
    "                genome = splitResult[1]\n",
    "                regulatoryRegion.append(splitResult[0])\n",
    "    return regulatoryRegion\n",
    "\n",
    "\n",
    "tmp = []\n",
    "for _ in range(100):\n",
    "    genome = genRandomGenome()\n",
    "    regulatory_seq = Lreg_VariablePromLen(genome)\n",
    "    tmp.append(len(regulatory_seq))\n",
    "ax = sns.boxplot(x=tmp)\n",
    "ax.set_title('#Lreg with variable [PromSeq')\n",
    "\n",
    "for _ in range(100):\n",
    "    genome = genRandomGenome()\n",
    "    regulatory_seq = Lreg_VariablePromLen(genome,fixedProm_Seq=True)\n",
    "    tmp.append(len(regulatory_seq))\n",
    "ax = sns.boxplot(x=tmp)\n",
    "ax.set_title('#Regulatory Regions with fixed Promoter Sequence and length (5)')\n",
    "sns.plotting_context()"
   ]
  },
  {
   "cell_type": "code",
   "execution_count": null,
   "metadata": {},
   "outputs": [],
   "source": []
  },
  {
   "cell_type": "code",
   "execution_count": null,
   "metadata": {},
   "outputs": [],
   "source": []
  },
  {
   "cell_type": "code",
   "execution_count": null,
   "metadata": {},
   "outputs": [],
   "source": []
  },
  {
   "cell_type": "code",
   "execution_count": null,
   "metadata": {},
   "outputs": [],
   "source": []
  },
  {
   "cell_type": "code",
   "execution_count": null,
   "metadata": {},
   "outputs": [],
   "source": []
  },
  {
   "cell_type": "code",
   "execution_count": null,
   "metadata": {},
   "outputs": [],
   "source": []
  },
  {
   "cell_type": "code",
   "execution_count": null,
   "metadata": {},
   "outputs": [],
   "source": []
  },
  {
   "cell_type": "code",
   "execution_count": null,
   "metadata": {},
   "outputs": [],
   "source": []
  }
 ],
 "metadata": {
  "kernelspec": {
   "display_name": "Python 3",
   "language": "python",
   "name": "python3"
  },
  "language_info": {
   "codemirror_mode": {
    "name": "ipython",
    "version": 3
   },
   "file_extension": ".py",
   "mimetype": "text/x-python",
   "name": "python",
   "nbconvert_exporter": "python",
   "pygments_lexer": "ipython3",
   "version": "3.6.5"
  }
 },
 "nbformat": 4,
 "nbformat_minor": 2
}
